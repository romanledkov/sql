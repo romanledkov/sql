{
 "cells": [
  {
   "cell_type": "code",
   "execution_count": 1,
   "metadata": {},
   "outputs": [],
   "source": [
    "# импортируем библиотеки\n",
    "\n",
    "import pandas as pd\n",
    "from sqlalchemy import create_engine\n",
    "\n",
    "# устанавливаем параметры\n",
    "\n",
    "db_config = {'user': 'praktikum_student', # имя пользователя\n",
    "'pwd': 'Sdf4$2;d-d30pp', # пароль\n",
    "'host': 'rc1b-wcoijxj3yxfsf3fs.mdb.yandexcloud.net',\n",
    "'port': 6432, # порт подключения\n",
    "'db': 'data-analyst-final-project-db'} # название базы данных\n",
    "\n",
    "connection_string = 'postgresql://{}:{}@{}:{}/{}'.format(db_config['user'],\n",
    " db_config['pwd'],\n",
    " db_config['host'],\n",
    " db_config['port'],\n",
    " db_config['db'])\n",
    "\n",
    "# сохраняем коннектор\n",
    "\n",
    "engine = create_engine(connection_string, connect_args={'sslmode':'require'})"
   ]
  },
  {
   "cell_type": "markdown",
   "metadata": {},
   "source": [
    "## Вводные данные"
   ]
  },
  {
   "cell_type": "markdown",
   "metadata": {},
   "source": [
    "**Канал: сервис для чтения книг по подписке**\n",
    "\n",
    "**Задача: проанализировать базу данных**\n",
    "\n",
    "**Дано:  информация о книгах, издательствах, авторах, а также пользовательские обзоры книг**"
   ]
  },
  {
   "cell_type": "markdown",
   "metadata": {},
   "source": [
    "### Цели и задачи"
   ]
  },
  {
   "cell_type": "markdown",
   "metadata": {},
   "source": [
    "**Цель:** Провести анализ базы данных. \n",
    "\n",
    "**Задачи :**\n",
    "\n",
    "1. Посчитайте, сколько книг вышло после 1 января 2000 года;\n",
    "2. Для каждой книги посчитайте количество обзоров и среднюю оценку;\n",
    "3. Определите издательство, которое выпустило наибольшее число книг толще 50 страниц — так вы исключите из анализа - брошюры;\n",
    "4. Определите автора с самой высокой средней оценкой книг — учитывайте только книги с 50 и более оценками;\n",
    "5. Посчитайте среднее количество обзоров от пользователей, которые поставили больше 50 оценок."
   ]
  },
  {
   "cell_type": "markdown",
   "metadata": {},
   "source": [
    "### Ознакомление с данными"
   ]
  },
  {
   "cell_type": "markdown",
   "metadata": {},
   "source": [
    "Датасет **`books`** - иноформация о **книгах**:\n",
    "\n",
    "Датасет **`authors`** - иноформация об **авторах**:\n",
    "\n",
    "Датасет **`publishers`** - иноформация об **издательствах**:\n",
    "\n",
    "Датасет **`ratings`** - иноформация об **пользовательских оценках книг**:\n",
    "\n",
    "Датасет **`reviews`** - иноформация о **пользовательских обзорах**:\n",
    "\n",
    "\n",
    "\n",
    "#### Структура **books**\n",
    "\n",
    "**`book_id`** — идентификатор книги;\n",
    "\n",
    "**`author_id`** — идентификатор автора;\n",
    "\n",
    "**`title`** — название книги;\n",
    "\n",
    "**`num_pages`** — количество страниц;\n",
    "\n",
    "**`publication_date`** — дата публикации книги;\n",
    "\n",
    "**`publisher_id`** — идентификатор издателя.\n",
    "\n",
    "\n",
    "\n",
    "#### Структура **authors**\n",
    "\n",
    "**`author_id`** — идентификатор автора;\n",
    "\n",
    "**`author`** — имя автора.\n",
    "\n",
    "\n",
    "#### Структура **publishers**\n",
    "\n",
    "**`publisher_id`** — идентификатор издательства;\n",
    "\n",
    "**`publisher`** — название издательства;\n",
    "\n",
    "\n",
    "\n",
    "#### Структура **ratings**\n",
    "\n",
    "**`rating_id`** — идентификатор оценки;\n",
    "\n",
    "**`book_id`** — идентификатор книги;\n",
    "\n",
    "**`username`** — имя пользователя, оставившего оценку;\n",
    "\n",
    "**`rating`** — оценка книги.\n",
    "\n",
    "\n",
    "#### Структура **reviews**\n",
    "\n",
    "**`review_id`** — идентификатор обзора;\n",
    "\n",
    "**`book_id`** — идентификатор книги;\n",
    "\n",
    "**`username`** — имя автора обзора;\n",
    "\n",
    "**`text`** — текст обзора.\n"
   ]
  },
  {
   "cell_type": "markdown",
   "metadata": {},
   "source": [
    "### Схема данных"
   ]
  },
  {
   "cell_type": "markdown",
   "metadata": {},
   "source": [
    "<img src=\"https://pictures.s3.yandex.net/resources/scheme_1589269096.png\"/>"
   ]
  },
  {
   "cell_type": "markdown",
   "metadata": {},
   "source": [
    "### Ход работы"
   ]
  },
  {
   "cell_type": "markdown",
   "metadata": {},
   "source": [
    "1. [x] Описать цели исследования\n",
    "2. [x] Обзор данных: Вывести первые строки\n",
    "3. [x] Исследование данных:Сделать по одному SQL-запросу для решения каждого задания\n",
    "4. [x] Вывести результаты каждого запроса в тетрадке\n",
    "5. [x] Описать выводы по каждой из решённых задач.\n",
    "6. [x] Общее заключение\n"
   ]
  },
  {
   "cell_type": "markdown",
   "metadata": {},
   "source": [
    "## Обзор данных: вывести первые строки"
   ]
  },
  {
   "cell_type": "code",
   "execution_count": 2,
   "metadata": {},
   "outputs": [],
   "source": [
    "def first_look (data):\n",
    "    print('---------Пропуски-----------\\n')\n",
    "    display(data.isna().sum())\n",
    "    print('\\n---------Процент пропусков от всего датасета-----------')\n",
    "    display(data.isna().mean().sort_values(ascending=False)*100)\n",
    "    print('\\n---------Дубликаты-----------\\n')\n",
    "    if data.duplicated().sum() > 0:\n",
    "        print('Дубликатов: ', data.duplicated().sum())\n",
    "    else:\n",
    "        print('Дубликатов НЕТ')"
   ]
  },
  {
   "cell_type": "markdown",
   "metadata": {},
   "source": [
    "перевод в переменные для пандас"
   ]
  },
  {
   "cell_type": "code",
   "execution_count": 3,
   "metadata": {},
   "outputs": [],
   "source": [
    "query = ''' \n",
    "SELECT *\n",
    "FROM books\n",
    "''' \n",
    "books = pd.io.sql.read_sql(query, con = engine)\n",
    "query = ''' \n",
    "SELECT *\n",
    "FROM authors\n",
    "''' \n",
    "authors = pd.io.sql.read_sql(query, con = engine)\n",
    "query = ''' \n",
    "SELECT *\n",
    "FROM publishers\n",
    "''' \n",
    "publishers = pd.io.sql.read_sql(query, con = engine)\n",
    "query = ''' \n",
    "SELECT *\n",
    "FROM ratings\n",
    "''' \n",
    "ratings = pd.io.sql.read_sql(query, con = engine)\n",
    "query = ''' \n",
    "SELECT *\n",
    "FROM reviews\n",
    "''' \n",
    "reviews = pd.io.sql.read_sql(query, con = engine)"
   ]
  },
  {
   "cell_type": "code",
   "execution_count": 4,
   "metadata": {
    "scrolled": true
   },
   "outputs": [
    {
     "name": "stdout",
     "output_type": "stream",
     "text": [
      "---------Пропуски-----------\n",
      "\n"
     ]
    },
    {
     "data": {
      "text/plain": [
       "book_id             0\n",
       "author_id           0\n",
       "title               0\n",
       "num_pages           0\n",
       "publication_date    0\n",
       "publisher_id        0\n",
       "dtype: int64"
      ]
     },
     "metadata": {},
     "output_type": "display_data"
    },
    {
     "name": "stdout",
     "output_type": "stream",
     "text": [
      "\n",
      "---------Процент пропусков от всего датасета-----------\n"
     ]
    },
    {
     "data": {
      "text/plain": [
       "book_id             0.0\n",
       "author_id           0.0\n",
       "title               0.0\n",
       "num_pages           0.0\n",
       "publication_date    0.0\n",
       "publisher_id        0.0\n",
       "dtype: float64"
      ]
     },
     "metadata": {},
     "output_type": "display_data"
    },
    {
     "name": "stdout",
     "output_type": "stream",
     "text": [
      "\n",
      "---------Дубликаты-----------\n",
      "\n",
      "Дубликатов НЕТ\n",
      "---------Пропуски-----------\n",
      "\n"
     ]
    },
    {
     "data": {
      "text/plain": [
       "author_id    0\n",
       "author       0\n",
       "dtype: int64"
      ]
     },
     "metadata": {},
     "output_type": "display_data"
    },
    {
     "name": "stdout",
     "output_type": "stream",
     "text": [
      "\n",
      "---------Процент пропусков от всего датасета-----------\n"
     ]
    },
    {
     "data": {
      "text/plain": [
       "author_id    0.0\n",
       "author       0.0\n",
       "dtype: float64"
      ]
     },
     "metadata": {},
     "output_type": "display_data"
    },
    {
     "name": "stdout",
     "output_type": "stream",
     "text": [
      "\n",
      "---------Дубликаты-----------\n",
      "\n",
      "Дубликатов НЕТ\n",
      "---------Пропуски-----------\n",
      "\n"
     ]
    },
    {
     "data": {
      "text/plain": [
       "publisher_id    0\n",
       "publisher       0\n",
       "dtype: int64"
      ]
     },
     "metadata": {},
     "output_type": "display_data"
    },
    {
     "name": "stdout",
     "output_type": "stream",
     "text": [
      "\n",
      "---------Процент пропусков от всего датасета-----------\n"
     ]
    },
    {
     "data": {
      "text/plain": [
       "publisher_id    0.0\n",
       "publisher       0.0\n",
       "dtype: float64"
      ]
     },
     "metadata": {},
     "output_type": "display_data"
    },
    {
     "name": "stdout",
     "output_type": "stream",
     "text": [
      "\n",
      "---------Дубликаты-----------\n",
      "\n",
      "Дубликатов НЕТ\n",
      "---------Пропуски-----------\n",
      "\n"
     ]
    },
    {
     "data": {
      "text/plain": [
       "rating_id    0\n",
       "book_id      0\n",
       "username     0\n",
       "rating       0\n",
       "dtype: int64"
      ]
     },
     "metadata": {},
     "output_type": "display_data"
    },
    {
     "name": "stdout",
     "output_type": "stream",
     "text": [
      "\n",
      "---------Процент пропусков от всего датасета-----------\n"
     ]
    },
    {
     "data": {
      "text/plain": [
       "rating_id    0.0\n",
       "book_id      0.0\n",
       "username     0.0\n",
       "rating       0.0\n",
       "dtype: float64"
      ]
     },
     "metadata": {},
     "output_type": "display_data"
    },
    {
     "name": "stdout",
     "output_type": "stream",
     "text": [
      "\n",
      "---------Дубликаты-----------\n",
      "\n",
      "Дубликатов НЕТ\n",
      "---------Пропуски-----------\n",
      "\n"
     ]
    },
    {
     "data": {
      "text/plain": [
       "review_id    0\n",
       "book_id      0\n",
       "username     0\n",
       "text         0\n",
       "dtype: int64"
      ]
     },
     "metadata": {},
     "output_type": "display_data"
    },
    {
     "name": "stdout",
     "output_type": "stream",
     "text": [
      "\n",
      "---------Процент пропусков от всего датасета-----------\n"
     ]
    },
    {
     "data": {
      "text/plain": [
       "review_id    0.0\n",
       "book_id      0.0\n",
       "username     0.0\n",
       "text         0.0\n",
       "dtype: float64"
      ]
     },
     "metadata": {},
     "output_type": "display_data"
    },
    {
     "name": "stdout",
     "output_type": "stream",
     "text": [
      "\n",
      "---------Дубликаты-----------\n",
      "\n",
      "Дубликатов НЕТ\n"
     ]
    }
   ],
   "source": [
    "first_look(books)\n",
    "first_look(authors)\n",
    "first_look(publishers)\n",
    "first_look(ratings)\n",
    "first_look(reviews)"
   ]
  },
  {
   "cell_type": "markdown",
   "metadata": {},
   "source": [
    "Дубликатов в датасетах необнаружено"
   ]
  },
  {
   "cell_type": "markdown",
   "metadata": {},
   "source": [
    "### books"
   ]
  },
  {
   "cell_type": "markdown",
   "metadata": {},
   "source": [
    "Первые пять строчек books"
   ]
  },
  {
   "cell_type": "code",
   "execution_count": 5,
   "metadata": {},
   "outputs": [],
   "source": [
    "query = ''' \n",
    "SELECT *\n",
    "FROM books\n",
    "LIMIT 5;\n",
    "''' \n",
    "books = pd.io.sql.read_sql(query, con = engine)"
   ]
  },
  {
   "cell_type": "markdown",
   "metadata": {},
   "source": [
    "Количество книг"
   ]
  },
  {
   "cell_type": "code",
   "execution_count": 6,
   "metadata": {},
   "outputs": [
    {
     "data": {
      "text/html": [
       "<div>\n",
       "<style scoped>\n",
       "    .dataframe tbody tr th:only-of-type {\n",
       "        vertical-align: middle;\n",
       "    }\n",
       "\n",
       "    .dataframe tbody tr th {\n",
       "        vertical-align: top;\n",
       "    }\n",
       "\n",
       "    .dataframe thead th {\n",
       "        text-align: right;\n",
       "    }\n",
       "</style>\n",
       "<table border=\"1\" class=\"dataframe\">\n",
       "  <thead>\n",
       "    <tr style=\"text-align: right;\">\n",
       "      <th></th>\n",
       "      <th>count</th>\n",
       "    </tr>\n",
       "  </thead>\n",
       "  <tbody>\n",
       "    <tr>\n",
       "      <th>0</th>\n",
       "      <td>1000</td>\n",
       "    </tr>\n",
       "  </tbody>\n",
       "</table>\n",
       "</div>"
      ],
      "text/plain": [
       "   count\n",
       "0   1000"
      ]
     },
     "execution_count": 6,
     "metadata": {},
     "output_type": "execute_result"
    }
   ],
   "source": [
    "query = '''\n",
    "SELECT \n",
    "    COUNT(book_id)\n",
    "FROM Books;\n",
    "''' \n",
    "pd.io.sql.read_sql(query, con = engine)"
   ]
  },
  {
   "cell_type": "markdown",
   "metadata": {},
   "source": [
    "В датасете хранится информация о 1000 книг"
   ]
  },
  {
   "cell_type": "markdown",
   "metadata": {},
   "source": [
    "### authors"
   ]
  },
  {
   "cell_type": "markdown",
   "metadata": {},
   "source": [
    "Первые пять строчек authors"
   ]
  },
  {
   "cell_type": "code",
   "execution_count": 7,
   "metadata": {},
   "outputs": [
    {
     "data": {
      "text/html": [
       "<div>\n",
       "<style scoped>\n",
       "    .dataframe tbody tr th:only-of-type {\n",
       "        vertical-align: middle;\n",
       "    }\n",
       "\n",
       "    .dataframe tbody tr th {\n",
       "        vertical-align: top;\n",
       "    }\n",
       "\n",
       "    .dataframe thead th {\n",
       "        text-align: right;\n",
       "    }\n",
       "</style>\n",
       "<table border=\"1\" class=\"dataframe\">\n",
       "  <thead>\n",
       "    <tr style=\"text-align: right;\">\n",
       "      <th></th>\n",
       "      <th>author_id</th>\n",
       "      <th>author</th>\n",
       "    </tr>\n",
       "  </thead>\n",
       "  <tbody>\n",
       "    <tr>\n",
       "      <th>0</th>\n",
       "      <td>1</td>\n",
       "      <td>A.S. Byatt</td>\n",
       "    </tr>\n",
       "    <tr>\n",
       "      <th>1</th>\n",
       "      <td>2</td>\n",
       "      <td>Aesop/Laura Harris/Laura Gibbs</td>\n",
       "    </tr>\n",
       "    <tr>\n",
       "      <th>2</th>\n",
       "      <td>3</td>\n",
       "      <td>Agatha Christie</td>\n",
       "    </tr>\n",
       "    <tr>\n",
       "      <th>3</th>\n",
       "      <td>4</td>\n",
       "      <td>Alan Brennert</td>\n",
       "    </tr>\n",
       "    <tr>\n",
       "      <th>4</th>\n",
       "      <td>5</td>\n",
       "      <td>Alan Moore/David   Lloyd</td>\n",
       "    </tr>\n",
       "  </tbody>\n",
       "</table>\n",
       "</div>"
      ],
      "text/plain": [
       "   author_id                          author\n",
       "0          1                      A.S. Byatt\n",
       "1          2  Aesop/Laura Harris/Laura Gibbs\n",
       "2          3                 Agatha Christie\n",
       "3          4                   Alan Brennert\n",
       "4          5        Alan Moore/David   Lloyd"
      ]
     },
     "execution_count": 7,
     "metadata": {},
     "output_type": "execute_result"
    }
   ],
   "source": [
    "query = '''\n",
    "SELECT *\n",
    "FROM authors\n",
    "LIMIT 5;\n",
    "''' \n",
    "pd.io.sql.read_sql(query, con = engine)"
   ]
  },
  {
   "cell_type": "markdown",
   "metadata": {},
   "source": [
    "Количество авторов"
   ]
  },
  {
   "cell_type": "code",
   "execution_count": 8,
   "metadata": {},
   "outputs": [
    {
     "data": {
      "text/html": [
       "<div>\n",
       "<style scoped>\n",
       "    .dataframe tbody tr th:only-of-type {\n",
       "        vertical-align: middle;\n",
       "    }\n",
       "\n",
       "    .dataframe tbody tr th {\n",
       "        vertical-align: top;\n",
       "    }\n",
       "\n",
       "    .dataframe thead th {\n",
       "        text-align: right;\n",
       "    }\n",
       "</style>\n",
       "<table border=\"1\" class=\"dataframe\">\n",
       "  <thead>\n",
       "    <tr style=\"text-align: right;\">\n",
       "      <th></th>\n",
       "      <th>count</th>\n",
       "    </tr>\n",
       "  </thead>\n",
       "  <tbody>\n",
       "    <tr>\n",
       "      <th>0</th>\n",
       "      <td>636</td>\n",
       "    </tr>\n",
       "  </tbody>\n",
       "</table>\n",
       "</div>"
      ],
      "text/plain": [
       "   count\n",
       "0    636"
      ]
     },
     "execution_count": 8,
     "metadata": {},
     "output_type": "execute_result"
    }
   ],
   "source": [
    "query = '''\n",
    "SELECT \n",
    "    COUNT(author_id)\n",
    "FROM authors;\n",
    "''' \n",
    "pd.io.sql.read_sql(query, con = engine)"
   ]
  },
  {
   "cell_type": "markdown",
   "metadata": {},
   "source": [
    "В датасете хранится информация о 636 авторах. "
   ]
  },
  {
   "cell_type": "markdown",
   "metadata": {},
   "source": [
    "### publishers"
   ]
  },
  {
   "cell_type": "markdown",
   "metadata": {},
   "source": [
    "Первые пять строчек publishers"
   ]
  },
  {
   "cell_type": "code",
   "execution_count": 9,
   "metadata": {},
   "outputs": [
    {
     "data": {
      "text/html": [
       "<div>\n",
       "<style scoped>\n",
       "    .dataframe tbody tr th:only-of-type {\n",
       "        vertical-align: middle;\n",
       "    }\n",
       "\n",
       "    .dataframe tbody tr th {\n",
       "        vertical-align: top;\n",
       "    }\n",
       "\n",
       "    .dataframe thead th {\n",
       "        text-align: right;\n",
       "    }\n",
       "</style>\n",
       "<table border=\"1\" class=\"dataframe\">\n",
       "  <thead>\n",
       "    <tr style=\"text-align: right;\">\n",
       "      <th></th>\n",
       "      <th>publisher_id</th>\n",
       "      <th>publisher</th>\n",
       "    </tr>\n",
       "  </thead>\n",
       "  <tbody>\n",
       "    <tr>\n",
       "      <th>0</th>\n",
       "      <td>1</td>\n",
       "      <td>Ace</td>\n",
       "    </tr>\n",
       "    <tr>\n",
       "      <th>1</th>\n",
       "      <td>2</td>\n",
       "      <td>Ace Book</td>\n",
       "    </tr>\n",
       "    <tr>\n",
       "      <th>2</th>\n",
       "      <td>3</td>\n",
       "      <td>Ace Books</td>\n",
       "    </tr>\n",
       "    <tr>\n",
       "      <th>3</th>\n",
       "      <td>4</td>\n",
       "      <td>Ace Hardcover</td>\n",
       "    </tr>\n",
       "    <tr>\n",
       "      <th>4</th>\n",
       "      <td>5</td>\n",
       "      <td>Addison Wesley Publishing Company</td>\n",
       "    </tr>\n",
       "  </tbody>\n",
       "</table>\n",
       "</div>"
      ],
      "text/plain": [
       "   publisher_id                          publisher\n",
       "0             1                                Ace\n",
       "1             2                           Ace Book\n",
       "2             3                          Ace Books\n",
       "3             4                      Ace Hardcover\n",
       "4             5  Addison Wesley Publishing Company"
      ]
     },
     "execution_count": 9,
     "metadata": {},
     "output_type": "execute_result"
    }
   ],
   "source": [
    "query = '''\n",
    "SELECT *\n",
    "FROM publishers\n",
    "LIMIT 5;\n",
    "''' \n",
    "pd.io.sql.read_sql(query, con = engine)"
   ]
  },
  {
   "cell_type": "markdown",
   "metadata": {},
   "source": [
    "Количество издательств"
   ]
  },
  {
   "cell_type": "code",
   "execution_count": 10,
   "metadata": {},
   "outputs": [
    {
     "data": {
      "text/html": [
       "<div>\n",
       "<style scoped>\n",
       "    .dataframe tbody tr th:only-of-type {\n",
       "        vertical-align: middle;\n",
       "    }\n",
       "\n",
       "    .dataframe tbody tr th {\n",
       "        vertical-align: top;\n",
       "    }\n",
       "\n",
       "    .dataframe thead th {\n",
       "        text-align: right;\n",
       "    }\n",
       "</style>\n",
       "<table border=\"1\" class=\"dataframe\">\n",
       "  <thead>\n",
       "    <tr style=\"text-align: right;\">\n",
       "      <th></th>\n",
       "      <th>count</th>\n",
       "    </tr>\n",
       "  </thead>\n",
       "  <tbody>\n",
       "    <tr>\n",
       "      <th>0</th>\n",
       "      <td>340</td>\n",
       "    </tr>\n",
       "  </tbody>\n",
       "</table>\n",
       "</div>"
      ],
      "text/plain": [
       "   count\n",
       "0    340"
      ]
     },
     "execution_count": 10,
     "metadata": {},
     "output_type": "execute_result"
    }
   ],
   "source": [
    "query = '''\n",
    "SELECT \n",
    "    COUNT(publisher_id)\n",
    "FROM publishers;\n",
    "''' \n",
    "pd.io.sql.read_sql(query, con = engine)"
   ]
  },
  {
   "cell_type": "markdown",
   "metadata": {},
   "source": [
    "В датасете хранится информация о 340 издательствах."
   ]
  },
  {
   "cell_type": "markdown",
   "metadata": {},
   "source": [
    "### ratings"
   ]
  },
  {
   "cell_type": "markdown",
   "metadata": {},
   "source": [
    "Первые пять строчек ratings"
   ]
  },
  {
   "cell_type": "code",
   "execution_count": 11,
   "metadata": {},
   "outputs": [
    {
     "data": {
      "text/html": [
       "<div>\n",
       "<style scoped>\n",
       "    .dataframe tbody tr th:only-of-type {\n",
       "        vertical-align: middle;\n",
       "    }\n",
       "\n",
       "    .dataframe tbody tr th {\n",
       "        vertical-align: top;\n",
       "    }\n",
       "\n",
       "    .dataframe thead th {\n",
       "        text-align: right;\n",
       "    }\n",
       "</style>\n",
       "<table border=\"1\" class=\"dataframe\">\n",
       "  <thead>\n",
       "    <tr style=\"text-align: right;\">\n",
       "      <th></th>\n",
       "      <th>rating_id</th>\n",
       "      <th>book_id</th>\n",
       "      <th>username</th>\n",
       "      <th>rating</th>\n",
       "    </tr>\n",
       "  </thead>\n",
       "  <tbody>\n",
       "    <tr>\n",
       "      <th>0</th>\n",
       "      <td>1</td>\n",
       "      <td>1</td>\n",
       "      <td>ryanfranco</td>\n",
       "      <td>4</td>\n",
       "    </tr>\n",
       "    <tr>\n",
       "      <th>1</th>\n",
       "      <td>2</td>\n",
       "      <td>1</td>\n",
       "      <td>grantpatricia</td>\n",
       "      <td>2</td>\n",
       "    </tr>\n",
       "    <tr>\n",
       "      <th>2</th>\n",
       "      <td>3</td>\n",
       "      <td>1</td>\n",
       "      <td>brandtandrea</td>\n",
       "      <td>5</td>\n",
       "    </tr>\n",
       "    <tr>\n",
       "      <th>3</th>\n",
       "      <td>4</td>\n",
       "      <td>2</td>\n",
       "      <td>lorichen</td>\n",
       "      <td>3</td>\n",
       "    </tr>\n",
       "    <tr>\n",
       "      <th>4</th>\n",
       "      <td>5</td>\n",
       "      <td>2</td>\n",
       "      <td>mariokeller</td>\n",
       "      <td>2</td>\n",
       "    </tr>\n",
       "  </tbody>\n",
       "</table>\n",
       "</div>"
      ],
      "text/plain": [
       "   rating_id  book_id       username  rating\n",
       "0          1        1     ryanfranco       4\n",
       "1          2        1  grantpatricia       2\n",
       "2          3        1   brandtandrea       5\n",
       "3          4        2       lorichen       3\n",
       "4          5        2    mariokeller       2"
      ]
     },
     "execution_count": 11,
     "metadata": {},
     "output_type": "execute_result"
    }
   ],
   "source": [
    "query = '''\n",
    "SELECT *\n",
    "FROM ratings\n",
    "LIMIT 5;\n",
    "''' \n",
    "pd.io.sql.read_sql(query, con = engine)"
   ]
  },
  {
   "cell_type": "markdown",
   "metadata": {},
   "source": [
    "Количество пользовательских оценок книг"
   ]
  },
  {
   "cell_type": "code",
   "execution_count": 12,
   "metadata": {},
   "outputs": [
    {
     "data": {
      "text/html": [
       "<div>\n",
       "<style scoped>\n",
       "    .dataframe tbody tr th:only-of-type {\n",
       "        vertical-align: middle;\n",
       "    }\n",
       "\n",
       "    .dataframe tbody tr th {\n",
       "        vertical-align: top;\n",
       "    }\n",
       "\n",
       "    .dataframe thead th {\n",
       "        text-align: right;\n",
       "    }\n",
       "</style>\n",
       "<table border=\"1\" class=\"dataframe\">\n",
       "  <thead>\n",
       "    <tr style=\"text-align: right;\">\n",
       "      <th></th>\n",
       "      <th>count</th>\n",
       "    </tr>\n",
       "  </thead>\n",
       "  <tbody>\n",
       "    <tr>\n",
       "      <th>0</th>\n",
       "      <td>6456</td>\n",
       "    </tr>\n",
       "  </tbody>\n",
       "</table>\n",
       "</div>"
      ],
      "text/plain": [
       "   count\n",
       "0   6456"
      ]
     },
     "execution_count": 12,
     "metadata": {},
     "output_type": "execute_result"
    }
   ],
   "source": [
    "query = '''\n",
    "SELECT \n",
    "    COUNT(rating_id)\n",
    "FROM ratings;\n",
    "''' \n",
    "pd.io.sql.read_sql(query, con = engine)"
   ]
  },
  {
   "cell_type": "markdown",
   "metadata": {},
   "source": [
    "В датасете хранится 6456 пользовательских оценок про книги"
   ]
  },
  {
   "cell_type": "markdown",
   "metadata": {},
   "source": [
    "### reviews"
   ]
  },
  {
   "cell_type": "markdown",
   "metadata": {},
   "source": [
    "Первые пять строчек reviews"
   ]
  },
  {
   "cell_type": "code",
   "execution_count": 13,
   "metadata": {},
   "outputs": [
    {
     "data": {
      "text/html": [
       "<div>\n",
       "<style scoped>\n",
       "    .dataframe tbody tr th:only-of-type {\n",
       "        vertical-align: middle;\n",
       "    }\n",
       "\n",
       "    .dataframe tbody tr th {\n",
       "        vertical-align: top;\n",
       "    }\n",
       "\n",
       "    .dataframe thead th {\n",
       "        text-align: right;\n",
       "    }\n",
       "</style>\n",
       "<table border=\"1\" class=\"dataframe\">\n",
       "  <thead>\n",
       "    <tr style=\"text-align: right;\">\n",
       "      <th></th>\n",
       "      <th>review_id</th>\n",
       "      <th>book_id</th>\n",
       "      <th>username</th>\n",
       "      <th>text</th>\n",
       "    </tr>\n",
       "  </thead>\n",
       "  <tbody>\n",
       "    <tr>\n",
       "      <th>0</th>\n",
       "      <td>1</td>\n",
       "      <td>1</td>\n",
       "      <td>brandtandrea</td>\n",
       "      <td>Mention society tell send professor analysis. ...</td>\n",
       "    </tr>\n",
       "    <tr>\n",
       "      <th>1</th>\n",
       "      <td>2</td>\n",
       "      <td>1</td>\n",
       "      <td>ryanfranco</td>\n",
       "      <td>Foot glass pretty audience hit themselves. Amo...</td>\n",
       "    </tr>\n",
       "    <tr>\n",
       "      <th>2</th>\n",
       "      <td>3</td>\n",
       "      <td>2</td>\n",
       "      <td>lorichen</td>\n",
       "      <td>Listen treat keep worry. Miss husband tax but ...</td>\n",
       "    </tr>\n",
       "    <tr>\n",
       "      <th>3</th>\n",
       "      <td>4</td>\n",
       "      <td>3</td>\n",
       "      <td>johnsonamanda</td>\n",
       "      <td>Finally month interesting blue could nature cu...</td>\n",
       "    </tr>\n",
       "    <tr>\n",
       "      <th>4</th>\n",
       "      <td>5</td>\n",
       "      <td>3</td>\n",
       "      <td>scotttamara</td>\n",
       "      <td>Nation purpose heavy give wait song will. List...</td>\n",
       "    </tr>\n",
       "  </tbody>\n",
       "</table>\n",
       "</div>"
      ],
      "text/plain": [
       "   review_id  book_id       username  \\\n",
       "0          1        1   brandtandrea   \n",
       "1          2        1     ryanfranco   \n",
       "2          3        2       lorichen   \n",
       "3          4        3  johnsonamanda   \n",
       "4          5        3    scotttamara   \n",
       "\n",
       "                                                text  \n",
       "0  Mention society tell send professor analysis. ...  \n",
       "1  Foot glass pretty audience hit themselves. Amo...  \n",
       "2  Listen treat keep worry. Miss husband tax but ...  \n",
       "3  Finally month interesting blue could nature cu...  \n",
       "4  Nation purpose heavy give wait song will. List...  "
      ]
     },
     "execution_count": 13,
     "metadata": {},
     "output_type": "execute_result"
    }
   ],
   "source": [
    "query = '''\n",
    "SELECT *\n",
    "FROM reviews\n",
    "LIMIT 5;\n",
    "''' \n",
    "pd.io.sql.read_sql(query, con = engine)"
   ]
  },
  {
   "cell_type": "markdown",
   "metadata": {},
   "source": [
    "Количество пользовательских обзоров"
   ]
  },
  {
   "cell_type": "code",
   "execution_count": 14,
   "metadata": {},
   "outputs": [
    {
     "data": {
      "text/html": [
       "<div>\n",
       "<style scoped>\n",
       "    .dataframe tbody tr th:only-of-type {\n",
       "        vertical-align: middle;\n",
       "    }\n",
       "\n",
       "    .dataframe tbody tr th {\n",
       "        vertical-align: top;\n",
       "    }\n",
       "\n",
       "    .dataframe thead th {\n",
       "        text-align: right;\n",
       "    }\n",
       "</style>\n",
       "<table border=\"1\" class=\"dataframe\">\n",
       "  <thead>\n",
       "    <tr style=\"text-align: right;\">\n",
       "      <th></th>\n",
       "      <th>count</th>\n",
       "    </tr>\n",
       "  </thead>\n",
       "  <tbody>\n",
       "    <tr>\n",
       "      <th>0</th>\n",
       "      <td>2793</td>\n",
       "    </tr>\n",
       "  </tbody>\n",
       "</table>\n",
       "</div>"
      ],
      "text/plain": [
       "   count\n",
       "0   2793"
      ]
     },
     "execution_count": 14,
     "metadata": {},
     "output_type": "execute_result"
    }
   ],
   "source": [
    "query = '''\n",
    "SELECT \n",
    "    COUNT(review_id)\n",
    "FROM reviews;\n",
    "''' \n",
    "pd.io.sql.read_sql(query, con = engine)"
   ]
  },
  {
   "cell_type": "markdown",
   "metadata": {},
   "source": [
    "В датасете хранится 2793 пользовательских обзоров про книги"
   ]
  },
  {
   "cell_type": "markdown",
   "metadata": {},
   "source": [
    "### Вывод"
   ]
  },
  {
   "cell_type": "markdown",
   "metadata": {},
   "source": [
    "- Дубликатов в датасетах необнаружено\n",
    "- В датасете **`books`** хранится информация о 1000 книг\n",
    "- В датасете **`authors`** хранится информация о 636 авторах.\n",
    "- В датасете **`publishers`** хранится информация о 340 издательствах.\n",
    "- В датасете **`ratings`** хранится 6456 пользовательских оценок про книги\n",
    "- В датасете **`reviews`** хранится 2793 пользовательских обзоров про книги"
   ]
  },
  {
   "cell_type": "markdown",
   "metadata": {},
   "source": [
    "## Исследование данных: Сделать по одному SQL-запросу для решения каждого задания"
   ]
  },
  {
   "cell_type": "markdown",
   "metadata": {},
   "source": [
    "### Посчитайте, сколько книг вышло после 1 января 2000 года"
   ]
  },
  {
   "cell_type": "code",
   "execution_count": 16,
   "metadata": {},
   "outputs": [
    {
     "data": {
      "text/html": [
       "<div>\n",
       "<style scoped>\n",
       "    .dataframe tbody tr th:only-of-type {\n",
       "        vertical-align: middle;\n",
       "    }\n",
       "\n",
       "    .dataframe tbody tr th {\n",
       "        vertical-align: top;\n",
       "    }\n",
       "\n",
       "    .dataframe thead th {\n",
       "        text-align: right;\n",
       "    }\n",
       "</style>\n",
       "<table border=\"1\" class=\"dataframe\">\n",
       "  <thead>\n",
       "    <tr style=\"text-align: right;\">\n",
       "      <th></th>\n",
       "      <th>count</th>\n",
       "    </tr>\n",
       "  </thead>\n",
       "  <tbody>\n",
       "    <tr>\n",
       "      <th>0</th>\n",
       "      <td>819</td>\n",
       "    </tr>\n",
       "  </tbody>\n",
       "</table>\n",
       "</div>"
      ],
      "text/plain": [
       "   count\n",
       "0    819"
      ]
     },
     "execution_count": 16,
     "metadata": {},
     "output_type": "execute_result"
    }
   ],
   "source": [
    "query = '''\n",
    "SELECT \n",
    "    COUNT(*)\n",
    "FROM books\n",
    "WHERE publication_date > '2000-01-01';\n",
    "\n",
    "'''\n",
    "pd.io.sql.read_sql(query, con = engine)"
   ]
  },
  {
   "cell_type": "markdown",
   "metadata": {},
   "source": [
    "После 1 января 2000 года вышло 819 книг. "
   ]
  },
  {
   "cell_type": "markdown",
   "metadata": {},
   "source": [
    "### Для каждой книги посчитайте количество обзоров и среднюю оценку"
   ]
  },
  {
   "cell_type": "code",
   "execution_count": 25,
   "metadata": {},
   "outputs": [
    {
     "data": {
      "text/html": [
       "<div>\n",
       "<style scoped>\n",
       "    .dataframe tbody tr th:only-of-type {\n",
       "        vertical-align: middle;\n",
       "    }\n",
       "\n",
       "    .dataframe tbody tr th {\n",
       "        vertical-align: top;\n",
       "    }\n",
       "\n",
       "    .dataframe thead th {\n",
       "        text-align: right;\n",
       "    }\n",
       "</style>\n",
       "<table border=\"1\" class=\"dataframe\">\n",
       "  <thead>\n",
       "    <tr style=\"text-align: right;\">\n",
       "      <th></th>\n",
       "      <th>book_title</th>\n",
       "      <th>amount_reviews</th>\n",
       "      <th>avg_rating</th>\n",
       "    </tr>\n",
       "  </thead>\n",
       "  <tbody>\n",
       "    <tr>\n",
       "      <th>0</th>\n",
       "      <td>A Dirty Job (Grim Reaper  #1)</td>\n",
       "      <td>4</td>\n",
       "      <td>5.00</td>\n",
       "    </tr>\n",
       "    <tr>\n",
       "      <th>1</th>\n",
       "      <td>Moneyball: The Art of Winning an Unfair Game</td>\n",
       "      <td>3</td>\n",
       "      <td>5.00</td>\n",
       "    </tr>\n",
       "    <tr>\n",
       "      <th>2</th>\n",
       "      <td>School's Out—Forever (Maximum Ride  #2)</td>\n",
       "      <td>3</td>\n",
       "      <td>5.00</td>\n",
       "    </tr>\n",
       "    <tr>\n",
       "      <th>3</th>\n",
       "      <td>A Fistful of Charms (The Hollows  #4)</td>\n",
       "      <td>2</td>\n",
       "      <td>5.00</td>\n",
       "    </tr>\n",
       "    <tr>\n",
       "      <th>4</th>\n",
       "      <td>A Woman of Substance (Emma Harte Saga #1)</td>\n",
       "      <td>2</td>\n",
       "      <td>5.00</td>\n",
       "    </tr>\n",
       "    <tr>\n",
       "      <th>...</th>\n",
       "      <td>...</td>\n",
       "      <td>...</td>\n",
       "      <td>...</td>\n",
       "    </tr>\n",
       "    <tr>\n",
       "      <th>995</th>\n",
       "      <td>The World Is Flat: A Brief History of the Twen...</td>\n",
       "      <td>3</td>\n",
       "      <td>2.25</td>\n",
       "    </tr>\n",
       "    <tr>\n",
       "      <th>996</th>\n",
       "      <td>Drowning Ruth</td>\n",
       "      <td>3</td>\n",
       "      <td>2.00</td>\n",
       "    </tr>\n",
       "    <tr>\n",
       "      <th>997</th>\n",
       "      <td>His Excellency: George Washington</td>\n",
       "      <td>2</td>\n",
       "      <td>2.00</td>\n",
       "    </tr>\n",
       "    <tr>\n",
       "      <th>998</th>\n",
       "      <td>Junky</td>\n",
       "      <td>2</td>\n",
       "      <td>2.00</td>\n",
       "    </tr>\n",
       "    <tr>\n",
       "      <th>999</th>\n",
       "      <td>Harvesting the Heart</td>\n",
       "      <td>2</td>\n",
       "      <td>1.50</td>\n",
       "    </tr>\n",
       "  </tbody>\n",
       "</table>\n",
       "<p>1000 rows × 3 columns</p>\n",
       "</div>"
      ],
      "text/plain": [
       "                                            book_title  amount_reviews  \\\n",
       "0                        A Dirty Job (Grim Reaper  #1)               4   \n",
       "1         Moneyball: The Art of Winning an Unfair Game               3   \n",
       "2              School's Out—Forever (Maximum Ride  #2)               3   \n",
       "3                A Fistful of Charms (The Hollows  #4)               2   \n",
       "4            A Woman of Substance (Emma Harte Saga #1)               2   \n",
       "..                                                 ...             ...   \n",
       "995  The World Is Flat: A Brief History of the Twen...               3   \n",
       "996                                      Drowning Ruth               3   \n",
       "997                  His Excellency: George Washington               2   \n",
       "998                                              Junky               2   \n",
       "999                               Harvesting the Heart               2   \n",
       "\n",
       "     avg_rating  \n",
       "0          5.00  \n",
       "1          5.00  \n",
       "2          5.00  \n",
       "3          5.00  \n",
       "4          5.00  \n",
       "..          ...  \n",
       "995        2.25  \n",
       "996        2.00  \n",
       "997        2.00  \n",
       "998        2.00  \n",
       "999        1.50  \n",
       "\n",
       "[1000 rows x 3 columns]"
      ]
     },
     "execution_count": 25,
     "metadata": {},
     "output_type": "execute_result"
    }
   ],
   "source": [
    "query = '''\n",
    "SELECT \n",
    "    books.title AS book_title,\n",
    "    COUNT(DISTINCT(reviews.text)) AS amount_reviews,\n",
    "    AVG(ratings.rating) AS avg_rating\n",
    "FROM books\n",
    "LEFT JOIN ratings ON ratings.book_id = books.book_id\n",
    "LEFT JOIN reviews ON reviews.book_id = books.book_id\n",
    "GROUP BY books.book_id\n",
    "ORDER BY avg_rating DESC, amount_reviews DESC, book_title ASC \n",
    "'''\n",
    "\n",
    "pd.io.sql.read_sql(query, con = engine)\n",
    "\n"
   ]
  },
  {
   "cell_type": "markdown",
   "metadata": {},
   "source": [
    "Получили название книги, количество обзоров (по убыванию) и среднюю оценку (по убыванию). "
   ]
  },
  {
   "cell_type": "markdown",
   "metadata": {},
   "source": [
    "### Определите издательство, которое выпустило наибольшее число книг толще 50 страниц — так вы исключите из анализа - брошюры"
   ]
  },
  {
   "cell_type": "code",
   "execution_count": 26,
   "metadata": {},
   "outputs": [
    {
     "data": {
      "text/html": [
       "<div>\n",
       "<style scoped>\n",
       "    .dataframe tbody tr th:only-of-type {\n",
       "        vertical-align: middle;\n",
       "    }\n",
       "\n",
       "    .dataframe tbody tr th {\n",
       "        vertical-align: top;\n",
       "    }\n",
       "\n",
       "    .dataframe thead th {\n",
       "        text-align: right;\n",
       "    }\n",
       "</style>\n",
       "<table border=\"1\" class=\"dataframe\">\n",
       "  <thead>\n",
       "    <tr style=\"text-align: right;\">\n",
       "      <th></th>\n",
       "      <th>publisher_id</th>\n",
       "      <th>publisher_name</th>\n",
       "      <th>amount_books</th>\n",
       "    </tr>\n",
       "  </thead>\n",
       "  <tbody>\n",
       "    <tr>\n",
       "      <th>0</th>\n",
       "      <td>212</td>\n",
       "      <td>Penguin Books</td>\n",
       "      <td>42</td>\n",
       "    </tr>\n",
       "  </tbody>\n",
       "</table>\n",
       "</div>"
      ],
      "text/plain": [
       "   publisher_id publisher_name  amount_books\n",
       "0           212  Penguin Books            42"
      ]
     },
     "execution_count": 26,
     "metadata": {},
     "output_type": "execute_result"
    }
   ],
   "source": [
    "query = '''\n",
    "SELECT \n",
    "    p.publisher_id AS publisher_id,\n",
    "    p.publisher AS publisher_name,\n",
    "    COUNT(b.book_id) AS amount_books\n",
    "FROM books AS b\n",
    "LEFT JOIN publishers AS p ON b.publisher_id = p.publisher_id\n",
    "WHERE b.num_pages > 50 \n",
    "GROUP BY p.publisher_id\n",
    "ORDER BY amount_books DESC\n",
    "LIMIT 1\n",
    "'''\n",
    "pd.io.sql.read_sql(query, con = engine)"
   ]
  },
  {
   "cell_type": "markdown",
   "metadata": {},
   "source": [
    "Издательство Penguin Books выпустило наибольшее число книг, которые толще 50 страниц"
   ]
  },
  {
   "cell_type": "markdown",
   "metadata": {},
   "source": [
    "### Определите автора с самой высокой средней оценкой книг — учитывайте только книги с 50 и более оценками"
   ]
  },
  {
   "cell_type": "code",
   "execution_count": 27,
   "metadata": {},
   "outputs": [
    {
     "data": {
      "text/html": [
       "<div>\n",
       "<style scoped>\n",
       "    .dataframe tbody tr th:only-of-type {\n",
       "        vertical-align: middle;\n",
       "    }\n",
       "\n",
       "    .dataframe tbody tr th {\n",
       "        vertical-align: top;\n",
       "    }\n",
       "\n",
       "    .dataframe thead th {\n",
       "        text-align: right;\n",
       "    }\n",
       "</style>\n",
       "<table border=\"1\" class=\"dataframe\">\n",
       "  <thead>\n",
       "    <tr style=\"text-align: right;\">\n",
       "      <th></th>\n",
       "      <th>author_id</th>\n",
       "      <th>author</th>\n",
       "      <th>avg_rating</th>\n",
       "      <th>amount_books</th>\n",
       "    </tr>\n",
       "  </thead>\n",
       "  <tbody>\n",
       "    <tr>\n",
       "      <th>0</th>\n",
       "      <td>236</td>\n",
       "      <td>J.K. Rowling/Mary GrandPré</td>\n",
       "      <td>4.29</td>\n",
       "      <td>310</td>\n",
       "    </tr>\n",
       "    <tr>\n",
       "      <th>1</th>\n",
       "      <td>402</td>\n",
       "      <td>Markus Zusak/Cao Xuân Việt Khương</td>\n",
       "      <td>4.26</td>\n",
       "      <td>53</td>\n",
       "    </tr>\n",
       "    <tr>\n",
       "      <th>2</th>\n",
       "      <td>240</td>\n",
       "      <td>J.R.R. Tolkien</td>\n",
       "      <td>4.25</td>\n",
       "      <td>162</td>\n",
       "    </tr>\n",
       "  </tbody>\n",
       "</table>\n",
       "</div>"
      ],
      "text/plain": [
       "   author_id                             author  avg_rating  amount_books\n",
       "0        236         J.K. Rowling/Mary GrandPré        4.29           310\n",
       "1        402  Markus Zusak/Cao Xuân Việt Khương        4.26            53\n",
       "2        240                     J.R.R. Tolkien        4.25           162"
      ]
     },
     "execution_count": 27,
     "metadata": {},
     "output_type": "execute_result"
    }
   ],
   "source": [
    "query = '''\n",
    "SELECT b.author_id,\n",
    "       a.author,\n",
    "       ROUND(AVG(rate.rating),2) AS avg_rating,\n",
    "       COUNT(b.book_id) AS amount_books\n",
    "FROM books AS b\n",
    "LEFT JOIN ratings AS rate ON b.book_id = rate.book_id\n",
    "LEFT JOIN authors AS a ON b.author_id = a.author_id\n",
    "WHERE b.book_id in \n",
    "    (SELECT b.book_id\n",
    "    FROM books AS b \n",
    "    LEFT JOIN ratings AS rate ON b.book_id = rate.book_id \n",
    "    GROUP BY b.book_id \n",
    "    HAVING COUNT(DISTINCT rate.rating_id) >=50)\n",
    "GROUP BY b.author_id, author\n",
    "ORDER BY avg_rating DESC\n",
    "LIMIT 3\n",
    "''' \n",
    "pd.io.sql.read_sql(query, con = engine)"
   ]
  },
  {
   "cell_type": "markdown",
   "metadata": {},
   "source": [
    "Немного непонятно как толковать вопрос, опираясь на полученные данные. В вопросе спрашивается про автора, то есть в единственном числе. Тогда ТОП-2 не подходит и ответом будет Джон Рональд Руэл Толкин.\n",
    "\n",
    "Но если брать author_id как единого автора, то ответом будет Джоан Роулинг/Мэри Гранпрэ."
   ]
  },
  {
   "cell_type": "markdown",
   "metadata": {},
   "source": [
    "### Посчитайте среднее количество обзоров от пользователей, которые поставили больше 50 оценок"
   ]
  },
  {
   "cell_type": "code",
   "execution_count": null,
   "metadata": {},
   "outputs": [],
   "source": [
    "query = '''\n",
    "SELECT \n",
    "    ROUND(AVG(rate.amount_rev),2) AS avg_rating\n",
    "FROM (SELECT \n",
    "        username,\n",
    "        COUNT (DISTINCT review_id) AS amount_rev\n",
    "      FROM reviews\n",
    "      WHERE username in (SELECT \n",
    "                              username\n",
    "                         FROM ratings\n",
    "                         GROUP BY username\n",
    "                         HAVING COUNT (DISTINCT rating_id) > 50)\n",
    "      GROUP BY username) AS rate\n",
    "''' \n",
    "pd.io.sql.read_sql(query, con = engine)"
   ]
  },
  {
   "cell_type": "markdown",
   "metadata": {},
   "source": [
    "Среднее количество обзоров от пользователей, которые поставили больше 50 оценок равняется **24**. "
   ]
  },
  {
   "cell_type": "markdown",
   "metadata": {},
   "source": [
    "## Общее заключение"
   ]
  },
  {
   "cell_type": "markdown",
   "metadata": {},
   "source": [
    "1. Про датасеты в целом:\n",
    "    - В датасете **`books`** хранится информация о 1000 книг\n",
    "    - В датасете **`authors`** хранится информация о 636 авторах.\n",
    "    - В датасете **`publishers`** хранится информация о 340 издательствах.\n",
    "    - В датасете **`ratings`** хранится 6456 пользовательских оценок про книги\n",
    "    - В датасете **`reviews`** хранится 2793 пользовательских обзоров про книги\n",
    "2. По задачам:\n",
    "    - После **1 января 2000** года вышло **819** книг\n",
    "    - **ТОП-1** **A Dirty Job (Grim Reaper #1)** - Средняя оценка **5.0**, кол-во обзоров **4**. \n",
    "    - Издательство **Penguin Books** выпустило **наибольшее число** книг (**42**), которые **толще 50 страниц**\n",
    "    - Автор с самой высокой средней оценкой книг — **Джоан Роулинг/Мэри Гранпрэ** (более 50 оценок). Средний рейтинг **4.29** по 310 книгам. \n",
    "    - **Среднее количество обзоров** от пользователей, которые поставили **больше 50 оценок** равняется **24**."
   ]
  }
 ],
 "metadata": {
  "ExecuteTimeLog": [
   {
    "duration": 5003,
    "start_time": "2022-12-09T22:21:45.502Z"
   },
   {
    "duration": 253,
    "start_time": "2022-12-09T22:22:01.039Z"
   },
   {
    "duration": 82,
    "start_time": "2022-12-09T22:22:09.204Z"
   },
   {
    "duration": 70,
    "start_time": "2022-12-09T22:28:46.507Z"
   },
   {
    "duration": 76,
    "start_time": "2022-12-09T22:29:20.712Z"
   },
   {
    "duration": 2,
    "start_time": "2022-12-09T22:29:39.119Z"
   },
   {
    "duration": 74,
    "start_time": "2022-12-09T22:29:49.273Z"
   },
   {
    "duration": 184,
    "start_time": "2022-12-09T22:31:55.741Z"
   },
   {
    "duration": 73,
    "start_time": "2022-12-09T22:32:10.424Z"
   },
   {
    "duration": 74,
    "start_time": "2022-12-09T22:34:47.207Z"
   },
   {
    "duration": 2,
    "start_time": "2022-12-09T22:35:53.101Z"
   },
   {
    "duration": 76,
    "start_time": "2022-12-09T22:35:57.436Z"
   },
   {
    "duration": 74,
    "start_time": "2022-12-09T22:37:23.164Z"
   },
   {
    "duration": 72,
    "start_time": "2022-12-09T22:38:21.822Z"
   },
   {
    "duration": 75,
    "start_time": "2022-12-09T22:39:41.464Z"
   },
   {
    "duration": 73,
    "start_time": "2022-12-09T22:40:03.752Z"
   },
   {
    "duration": 74,
    "start_time": "2022-12-09T22:41:05.304Z"
   },
   {
    "duration": 72,
    "start_time": "2022-12-09T22:41:13.579Z"
   },
   {
    "duration": 75,
    "start_time": "2022-12-09T22:42:35.907Z"
   },
   {
    "duration": 3,
    "start_time": "2022-12-09T22:43:13.084Z"
   },
   {
    "duration": 72,
    "start_time": "2022-12-09T22:43:18.467Z"
   },
   {
    "duration": 72,
    "start_time": "2022-12-09T22:51:03.658Z"
   },
   {
    "duration": 107,
    "start_time": "2022-12-09T22:53:10.124Z"
   },
   {
    "duration": 214,
    "start_time": "2022-12-09T23:03:14.388Z"
   },
   {
    "duration": 131,
    "start_time": "2022-12-09T23:03:32.355Z"
   },
   {
    "duration": 130,
    "start_time": "2022-12-09T23:06:45.489Z"
   },
   {
    "duration": 120,
    "start_time": "2022-12-09T23:06:59.844Z"
   },
   {
    "duration": 131,
    "start_time": "2022-12-09T23:07:33.218Z"
   },
   {
    "duration": 137,
    "start_time": "2022-12-09T23:07:52.810Z"
   },
   {
    "duration": 129,
    "start_time": "2022-12-09T23:08:04.263Z"
   },
   {
    "duration": 144,
    "start_time": "2022-12-09T23:08:22.012Z"
   },
   {
    "duration": 118,
    "start_time": "2022-12-09T23:08:28.966Z"
   },
   {
    "duration": 131,
    "start_time": "2022-12-09T23:10:42.023Z"
   },
   {
    "duration": 135,
    "start_time": "2022-12-09T23:10:50.475Z"
   },
   {
    "duration": 131,
    "start_time": "2022-12-09T23:11:02.776Z"
   },
   {
    "duration": 90,
    "start_time": "2022-12-09T23:13:06.376Z"
   },
   {
    "duration": 91,
    "start_time": "2022-12-09T23:13:30.157Z"
   },
   {
    "duration": 132,
    "start_time": "2022-12-09T23:13:49.039Z"
   },
   {
    "duration": 100,
    "start_time": "2022-12-09T23:14:08.292Z"
   },
   {
    "duration": 128,
    "start_time": "2022-12-09T23:14:46.027Z"
   },
   {
    "duration": 89,
    "start_time": "2022-12-09T23:14:56.663Z"
   },
   {
    "duration": 91,
    "start_time": "2022-12-09T23:15:16.453Z"
   },
   {
    "duration": 90,
    "start_time": "2022-12-09T23:15:27.061Z"
   },
   {
    "duration": 91,
    "start_time": "2022-12-09T23:15:47.014Z"
   },
   {
    "duration": 90,
    "start_time": "2022-12-09T23:16:28.491Z"
   },
   {
    "duration": 90,
    "start_time": "2022-12-09T23:16:35.310Z"
   },
   {
    "duration": 89,
    "start_time": "2022-12-09T23:16:39.931Z"
   },
   {
    "duration": 101,
    "start_time": "2022-12-09T23:16:48.539Z"
   },
   {
    "duration": 90,
    "start_time": "2022-12-09T23:16:54.822Z"
   },
   {
    "duration": 116,
    "start_time": "2022-12-09T23:17:08.359Z"
   },
   {
    "duration": 116,
    "start_time": "2022-12-09T23:18:39.988Z"
   },
   {
    "duration": 114,
    "start_time": "2022-12-09T23:26:08.650Z"
   },
   {
    "duration": 115,
    "start_time": "2022-12-09T23:27:02.774Z"
   },
   {
    "duration": 80,
    "start_time": "2022-12-09T23:28:46.187Z"
   },
   {
    "duration": 134,
    "start_time": "2022-12-09T23:31:01.316Z"
   },
   {
    "duration": 140,
    "start_time": "2022-12-09T23:31:16.525Z"
   },
   {
    "duration": 133,
    "start_time": "2022-12-09T23:31:20.752Z"
   },
   {
    "duration": 75,
    "start_time": "2022-12-09T23:31:30.668Z"
   },
   {
    "duration": 77,
    "start_time": "2022-12-09T23:31:44.390Z"
   },
   {
    "duration": 74,
    "start_time": "2022-12-09T23:32:10.251Z"
   },
   {
    "duration": 130,
    "start_time": "2022-12-09T23:32:14.371Z"
   },
   {
    "duration": 73,
    "start_time": "2022-12-09T23:32:36.359Z"
   },
   {
    "duration": 73,
    "start_time": "2022-12-09T23:32:59.464Z"
   },
   {
    "duration": 123,
    "start_time": "2022-12-09T23:33:14.382Z"
   },
   {
    "duration": 76,
    "start_time": "2022-12-09T23:33:36.368Z"
   },
   {
    "duration": 133,
    "start_time": "2022-12-09T23:33:51.039Z"
   },
   {
    "duration": 78,
    "start_time": "2022-12-09T23:34:00.280Z"
   },
   {
    "duration": 83,
    "start_time": "2022-12-09T23:36:50.999Z"
   },
   {
    "duration": 140,
    "start_time": "2022-12-09T23:37:49.054Z"
   },
   {
    "duration": 132,
    "start_time": "2022-12-09T23:38:00.717Z"
   },
   {
    "duration": 126,
    "start_time": "2022-12-09T23:38:03.555Z"
   },
   {
    "duration": 124,
    "start_time": "2022-12-09T23:38:34.853Z"
   },
   {
    "duration": 141,
    "start_time": "2022-12-09T23:38:45.509Z"
   },
   {
    "duration": 129,
    "start_time": "2022-12-09T23:39:34.303Z"
   },
   {
    "duration": 80,
    "start_time": "2022-12-09T23:39:49.255Z"
   },
   {
    "duration": 80,
    "start_time": "2022-12-09T23:40:06.839Z"
   },
   {
    "duration": 75,
    "start_time": "2022-12-09T23:40:40.944Z"
   },
   {
    "duration": 73,
    "start_time": "2022-12-09T23:41:34.286Z"
   },
   {
    "duration": 79,
    "start_time": "2022-12-09T23:42:50.129Z"
   },
   {
    "duration": 81,
    "start_time": "2022-12-09T23:43:42.691Z"
   },
   {
    "duration": 79,
    "start_time": "2022-12-09T23:43:46.510Z"
   },
   {
    "duration": 80,
    "start_time": "2022-12-09T23:43:53.133Z"
   },
   {
    "duration": 80,
    "start_time": "2022-12-09T23:49:33.223Z"
   },
   {
    "duration": 5114,
    "start_time": "2022-12-09T23:51:03.790Z"
   },
   {
    "duration": 269,
    "start_time": "2022-12-09T23:51:08.906Z"
   },
   {
    "duration": 72,
    "start_time": "2022-12-09T23:51:09.176Z"
   },
   {
    "duration": 73,
    "start_time": "2022-12-09T23:51:09.250Z"
   },
   {
    "duration": 70,
    "start_time": "2022-12-09T23:51:09.324Z"
   },
   {
    "duration": 71,
    "start_time": "2022-12-09T23:51:09.395Z"
   },
   {
    "duration": 70,
    "start_time": "2022-12-09T23:51:09.467Z"
   },
   {
    "duration": 72,
    "start_time": "2022-12-09T23:51:09.538Z"
   },
   {
    "duration": 71,
    "start_time": "2022-12-09T23:51:09.611Z"
   },
   {
    "duration": 72,
    "start_time": "2022-12-09T23:51:09.684Z"
   },
   {
    "duration": 71,
    "start_time": "2022-12-09T23:51:09.758Z"
   },
   {
    "duration": 70,
    "start_time": "2022-12-09T23:51:09.831Z"
   },
   {
    "duration": 112,
    "start_time": "2022-12-09T23:51:09.902Z"
   },
   {
    "duration": 72,
    "start_time": "2022-12-09T23:51:10.017Z"
   },
   {
    "duration": 78,
    "start_time": "2022-12-09T23:51:10.090Z"
   },
   {
    "duration": 75,
    "start_time": "2022-12-09T23:51:10.170Z"
   },
   {
    "duration": 74,
    "start_time": "2022-12-09T23:52:57.879Z"
   },
   {
    "duration": 75,
    "start_time": "2022-12-09T23:53:39.191Z"
   },
   {
    "duration": 190,
    "start_time": "2022-12-09T23:56:37.601Z"
   },
   {
    "duration": 76,
    "start_time": "2022-12-09T23:57:06.272Z"
   },
   {
    "duration": 76,
    "start_time": "2022-12-09T23:57:16.609Z"
   },
   {
    "duration": 76,
    "start_time": "2022-12-09T23:58:09.403Z"
   },
   {
    "duration": 114,
    "start_time": "2022-12-10T00:02:46.920Z"
   },
   {
    "duration": 130,
    "start_time": "2022-12-10T00:02:51.662Z"
   },
   {
    "duration": 132,
    "start_time": "2022-12-10T00:03:01.752Z"
   },
   {
    "duration": 89,
    "start_time": "2022-12-10T00:03:23.783Z"
   },
   {
    "duration": 142,
    "start_time": "2022-12-10T00:03:40.648Z"
   },
   {
    "duration": 89,
    "start_time": "2022-12-10T00:03:48.781Z"
   },
   {
    "duration": 88,
    "start_time": "2022-12-10T00:03:53.468Z"
   },
   {
    "duration": 89,
    "start_time": "2022-12-10T00:04:27.244Z"
   },
   {
    "duration": 5172,
    "start_time": "2022-12-10T00:11:40.076Z"
   },
   {
    "duration": 266,
    "start_time": "2022-12-10T00:11:45.250Z"
   },
   {
    "duration": 72,
    "start_time": "2022-12-10T00:11:45.517Z"
   },
   {
    "duration": 74,
    "start_time": "2022-12-10T00:11:45.590Z"
   },
   {
    "duration": 72,
    "start_time": "2022-12-10T00:11:45.666Z"
   },
   {
    "duration": 73,
    "start_time": "2022-12-10T00:11:45.739Z"
   },
   {
    "duration": 81,
    "start_time": "2022-12-10T00:11:45.813Z"
   },
   {
    "duration": 77,
    "start_time": "2022-12-10T00:11:45.895Z"
   },
   {
    "duration": 74,
    "start_time": "2022-12-10T00:11:45.974Z"
   },
   {
    "duration": 76,
    "start_time": "2022-12-10T00:11:46.050Z"
   },
   {
    "duration": 75,
    "start_time": "2022-12-10T00:11:46.128Z"
   },
   {
    "duration": 77,
    "start_time": "2022-12-10T00:11:46.205Z"
   },
   {
    "duration": 95,
    "start_time": "2022-12-10T00:11:46.284Z"
   },
   {
    "duration": 77,
    "start_time": "2022-12-10T00:11:46.382Z"
   },
   {
    "duration": 81,
    "start_time": "2022-12-10T00:11:46.461Z"
   },
   {
    "duration": 80,
    "start_time": "2022-12-10T00:11:46.543Z"
   },
   {
    "duration": 5651,
    "start_time": "2022-12-10T00:12:57.933Z"
   },
   {
    "duration": 265,
    "start_time": "2022-12-10T00:13:03.586Z"
   },
   {
    "duration": 75,
    "start_time": "2022-12-10T00:13:03.852Z"
   },
   {
    "duration": 74,
    "start_time": "2022-12-10T00:13:03.929Z"
   },
   {
    "duration": 75,
    "start_time": "2022-12-10T00:13:04.005Z"
   },
   {
    "duration": 74,
    "start_time": "2022-12-10T00:13:04.081Z"
   },
   {
    "duration": 75,
    "start_time": "2022-12-10T00:13:04.157Z"
   },
   {
    "duration": 81,
    "start_time": "2022-12-10T00:13:04.234Z"
   },
   {
    "duration": 76,
    "start_time": "2022-12-10T00:13:04.317Z"
   },
   {
    "duration": 77,
    "start_time": "2022-12-10T00:13:04.395Z"
   },
   {
    "duration": 76,
    "start_time": "2022-12-10T00:13:04.473Z"
   },
   {
    "duration": 74,
    "start_time": "2022-12-10T00:13:04.551Z"
   },
   {
    "duration": 93,
    "start_time": "2022-12-10T00:13:04.626Z"
   },
   {
    "duration": 76,
    "start_time": "2022-12-10T00:13:04.720Z"
   },
   {
    "duration": 83,
    "start_time": "2022-12-10T00:13:04.798Z"
   },
   {
    "duration": 78,
    "start_time": "2022-12-10T00:13:04.883Z"
   },
   {
    "duration": 91,
    "start_time": "2022-12-10T00:13:16.645Z"
   },
   {
    "duration": 117,
    "start_time": "2022-12-10T00:13:24.419Z"
   },
   {
    "duration": 5501,
    "start_time": "2022-12-10T00:13:37.532Z"
   },
   {
    "duration": 276,
    "start_time": "2022-12-10T00:13:43.035Z"
   },
   {
    "duration": 75,
    "start_time": "2022-12-10T00:13:43.313Z"
   },
   {
    "duration": 78,
    "start_time": "2022-12-10T00:13:43.390Z"
   },
   {
    "duration": 74,
    "start_time": "2022-12-10T00:13:43.470Z"
   },
   {
    "duration": 75,
    "start_time": "2022-12-10T00:13:43.546Z"
   },
   {
    "duration": 75,
    "start_time": "2022-12-10T00:13:43.623Z"
   },
   {
    "duration": 76,
    "start_time": "2022-12-10T00:13:43.700Z"
   },
   {
    "duration": 75,
    "start_time": "2022-12-10T00:13:43.778Z"
   },
   {
    "duration": 77,
    "start_time": "2022-12-10T00:13:43.854Z"
   },
   {
    "duration": 75,
    "start_time": "2022-12-10T00:13:43.932Z"
   },
   {
    "duration": 80,
    "start_time": "2022-12-10T00:13:44.009Z"
   },
   {
    "duration": 117,
    "start_time": "2022-12-10T00:13:44.091Z"
   },
   {
    "duration": 76,
    "start_time": "2022-12-10T00:13:44.211Z"
   },
   {
    "duration": 83,
    "start_time": "2022-12-10T00:13:44.289Z"
   },
   {
    "duration": 78,
    "start_time": "2022-12-10T00:13:44.374Z"
   },
   {
    "duration": 5415,
    "start_time": "2022-12-10T00:21:27.753Z"
   },
   {
    "duration": 264,
    "start_time": "2022-12-10T00:21:33.170Z"
   },
   {
    "duration": 74,
    "start_time": "2022-12-10T00:21:33.436Z"
   },
   {
    "duration": 72,
    "start_time": "2022-12-10T00:21:33.512Z"
   },
   {
    "duration": 73,
    "start_time": "2022-12-10T00:21:33.586Z"
   },
   {
    "duration": 73,
    "start_time": "2022-12-10T00:21:33.660Z"
   },
   {
    "duration": 71,
    "start_time": "2022-12-10T00:21:33.734Z"
   },
   {
    "duration": 75,
    "start_time": "2022-12-10T00:21:33.807Z"
   },
   {
    "duration": 71,
    "start_time": "2022-12-10T00:21:33.884Z"
   },
   {
    "duration": 74,
    "start_time": "2022-12-10T00:21:33.958Z"
   },
   {
    "duration": 71,
    "start_time": "2022-12-10T00:21:34.034Z"
   },
   {
    "duration": 71,
    "start_time": "2022-12-10T00:21:34.107Z"
   },
   {
    "duration": 114,
    "start_time": "2022-12-10T00:21:34.180Z"
   },
   {
    "duration": 72,
    "start_time": "2022-12-10T00:21:34.296Z"
   },
   {
    "duration": 79,
    "start_time": "2022-12-10T00:21:34.370Z"
   },
   {
    "duration": 76,
    "start_time": "2022-12-10T00:21:34.451Z"
   },
   {
    "duration": 192,
    "start_time": "2022-12-10T00:22:49.685Z"
   },
   {
    "duration": 112,
    "start_time": "2022-12-10T00:22:52.603Z"
   },
   {
    "duration": 79,
    "start_time": "2022-12-10T00:23:29.624Z"
   },
   {
    "duration": 81,
    "start_time": "2022-12-10T00:23:36.512Z"
   },
   {
    "duration": 4,
    "start_time": "2022-12-10T00:46:40.334Z"
   },
   {
    "duration": 67,
    "start_time": "2022-12-10T00:46:51.439Z"
   },
   {
    "duration": 107,
    "start_time": "2022-12-10T00:47:52.883Z"
   },
   {
    "duration": 16,
    "start_time": "2022-12-10T00:47:55.438Z"
   },
   {
    "duration": 430,
    "start_time": "2022-12-10T00:51:22.971Z"
   },
   {
    "duration": 46,
    "start_time": "2022-12-10T00:51:27.002Z"
   },
   {
    "duration": 122,
    "start_time": "2022-12-10T00:53:34.081Z"
   },
   {
    "duration": 5659,
    "start_time": "2022-12-10T00:53:43.020Z"
   },
   {
    "duration": 3,
    "start_time": "2022-12-10T00:53:48.682Z"
   },
   {
    "duration": 662,
    "start_time": "2022-12-10T00:53:48.687Z"
   },
   {
    "duration": 100,
    "start_time": "2022-12-10T00:53:49.350Z"
   },
   {
    "duration": 113,
    "start_time": "2022-12-10T00:53:49.452Z"
   },
   {
    "duration": 81,
    "start_time": "2022-12-10T00:53:49.567Z"
   },
   {
    "duration": 83,
    "start_time": "2022-12-10T00:53:49.650Z"
   },
   {
    "duration": 74,
    "start_time": "2022-12-10T00:53:49.734Z"
   },
   {
    "duration": 79,
    "start_time": "2022-12-10T00:53:49.810Z"
   },
   {
    "duration": 87,
    "start_time": "2022-12-10T00:53:49.891Z"
   },
   {
    "duration": 91,
    "start_time": "2022-12-10T00:53:49.979Z"
   },
   {
    "duration": 84,
    "start_time": "2022-12-10T00:53:50.072Z"
   },
   {
    "duration": 87,
    "start_time": "2022-12-10T00:53:50.157Z"
   },
   {
    "duration": 85,
    "start_time": "2022-12-10T00:53:50.246Z"
   },
   {
    "duration": 39,
    "start_time": "2022-12-10T00:53:50.332Z"
   },
   {
    "duration": 0,
    "start_time": "2022-12-10T00:53:50.373Z"
   },
   {
    "duration": 0,
    "start_time": "2022-12-10T00:53:50.374Z"
   },
   {
    "duration": 0,
    "start_time": "2022-12-10T00:53:50.375Z"
   },
   {
    "duration": 0,
    "start_time": "2022-12-10T00:53:50.376Z"
   },
   {
    "duration": 0,
    "start_time": "2022-12-10T00:53:50.377Z"
   },
   {
    "duration": 74,
    "start_time": "2022-12-10T00:54:46.933Z"
   },
   {
    "duration": 114,
    "start_time": "2022-12-10T00:54:50.942Z"
   },
   {
    "duration": 195,
    "start_time": "2022-12-10T00:55:28.413Z"
   },
   {
    "duration": 118,
    "start_time": "2022-12-10T00:57:38.324Z"
   },
   {
    "duration": 112,
    "start_time": "2022-12-10T00:58:46.362Z"
   },
   {
    "duration": 111,
    "start_time": "2022-12-10T00:58:58.610Z"
   },
   {
    "duration": 112,
    "start_time": "2022-12-10T00:59:24.950Z"
   },
   {
    "duration": 112,
    "start_time": "2022-12-10T00:59:41.464Z"
   },
   {
    "duration": 118,
    "start_time": "2022-12-10T01:00:27.389Z"
   },
   {
    "duration": 121,
    "start_time": "2022-12-10T01:00:34.525Z"
   },
   {
    "duration": 78,
    "start_time": "2022-12-10T01:03:47.464Z"
   },
   {
    "duration": 83,
    "start_time": "2022-12-10T01:03:51.564Z"
   }
  ],
  "kernelspec": {
   "display_name": "Python 3 (ipykernel)",
   "language": "python",
   "name": "python3"
  },
  "language_info": {
   "codemirror_mode": {
    "name": "ipython",
    "version": 3
   },
   "file_extension": ".py",
   "mimetype": "text/x-python",
   "name": "python",
   "nbconvert_exporter": "python",
   "pygments_lexer": "ipython3",
   "version": "3.9.13"
  },
  "toc": {
   "base_numbering": 1,
   "nav_menu": {},
   "number_sections": true,
   "sideBar": true,
   "skip_h1_title": true,
   "title_cell": "Table of Contents",
   "title_sidebar": "Contents",
   "toc_cell": false,
   "toc_position": {
    "height": "calc(100% - 180px)",
    "left": "10px",
    "top": "150px",
    "width": "165px"
   },
   "toc_section_display": true,
   "toc_window_display": true
  }
 },
 "nbformat": 4,
 "nbformat_minor": 2
}
